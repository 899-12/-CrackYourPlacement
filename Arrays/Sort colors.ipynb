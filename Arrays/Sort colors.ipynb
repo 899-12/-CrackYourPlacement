{
 "cells": [
  {
   "cell_type": "code",
   "execution_count": 2,
   "metadata": {},
   "outputs": [
    {
     "name": "stdout",
     "output_type": "stream",
     "text": [
      "2\n"
     ]
    }
   ],
   "source": [
    "class Solution:\n",
    "    def sortColors(self, nums: List[int]) -> None:\n",
    "        low, mid, high = 0, 0, len(nums) - 1\n",
    "        while mid <= high:\n",
    "            if nums[mid] == 0:\n",
    "                nums[low], nums[mid] = nums[mid], nums[low]\n",
    "                low += 1\n",
    "                mid += 1\n",
    "            elif nums[mid] == 1:\n",
    "                mid += 1\n",
    "            else:\n",
    "                nums[high], nums[mid] = nums[mid], nums[high]\n",
    "                high -= 1"
   ]
  },
  {
   "cell_type": "code",
   "execution_count": null,
   "metadata": {},
   "outputs": [],
   "source": []
  }
 ],
 "metadata": {
  "kernelspec": {
   "display_name": "Python 3",
   "language": "python",
   "name": "python3"
  },
  "language_info": {
   "codemirror_mode": {
    "name": "ipython",
    "version": 3
   },
   "file_extension": ".py",
   "mimetype": "text/x-python",
   "name": "python",
   "nbconvert_exporter": "python",
   "pygments_lexer": "ipython3",
   "version": "3.9.13"
  }
 },
 "nbformat": 4,
 "nbformat_minor": 2
}

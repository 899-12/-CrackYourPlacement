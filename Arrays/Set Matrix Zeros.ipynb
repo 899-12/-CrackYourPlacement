{
 "cells": [
  {
   "cell_type": "code",
   "execution_count": 2,
   "id": "53a6c89e",
   "metadata": {},
   "outputs": [
    {
     "name": "stdout",
     "output_type": "stream",
     "text": [
      "[[1, 0, 1], [0, 0, 0], [1, 0, 1]]\n"
     ]
    }
   ],
   "source": [
    "from typing import List\n",
    "class Solution:\n",
    "    def setZeroes(self, matrix: List[List[int]]) -> None:\n",
    "        m, n = len(matrix), len(matrix[0])\n",
    "        first_row_has_zero = any(matrix[0][j] == 0 for j in range(n))\n",
    "        first_col_has_zero = any(matrix[i][0] == 0 for i in range(m))\n",
    "        \n",
    "        # Use the first row and column to mark zeros\n",
    "        for i in range(1, m):\n",
    "            for j in range(1, n):\n",
    "                if matrix[i][j] == 0:\n",
    "                    matrix[i][0] = 0\n",
    "                    matrix[0][j] = 0\n",
    "        \n",
    "        # Zero out cells based on the markers in the first row and column\n",
    "        for i in range(1, m):\n",
    "            for j in range(1, n):\n",
    "                if matrix[i][0] == 0 or matrix[0][j] == 0:\n",
    "                    matrix[i][j] = 0\n",
    "        \n",
    "        # Zero out the first row if needed\n",
    "        if first_row_has_zero:\n",
    "            for j in range(n):\n",
    "                matrix[0][j] = 0\n",
    "        \n",
    "        # Zero out the first column if needed\n",
    "        if first_col_has_zero:\n",
    "            for i in range(m):\n",
    "                matrix[i][0] = 0\n",
    "solution=Solution()\n",
    "matrix1 = [[1, 1, 1], [1, 0, 1], [1, 1, 1]]\n",
    "solution.setZeroes(matrix1)\n",
    "print(matrix1)\n"
   ]
  },
  {
   "cell_type": "code",
   "execution_count": null,
   "id": "28eb1ceb",
   "metadata": {},
   "outputs": [],
   "source": []
  }
 ],
 "metadata": {
  "kernelspec": {
   "display_name": "Python 3 (ipykernel)",
   "language": "python",
   "name": "python3"
  },
  "language_info": {
   "codemirror_mode": {
    "name": "ipython",
    "version": 3
   },
   "file_extension": ".py",
   "mimetype": "text/x-python",
   "name": "python",
   "nbconvert_exporter": "python",
   "pygments_lexer": "ipython3",
   "version": "3.9.12"
  }
 },
 "nbformat": 4,
 "nbformat_minor": 5
}

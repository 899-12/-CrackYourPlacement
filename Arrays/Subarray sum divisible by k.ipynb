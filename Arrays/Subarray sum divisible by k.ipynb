{
 "cells": [
  {
   "cell_type": "code",
   "execution_count": 1,
   "metadata": {},
   "outputs": [
    {
     "name": "stdout",
     "output_type": "stream",
     "text": [
      "7\n"
     ]
    }
   ],
   "source": [
    "def subarraysDivByK(nums, k):\n",
    "    # Initialize a dictionary to store the counts of remainders\n",
    "    remainder_count = {0: 1}\n",
    "    \n",
    "    # Initialize the prefix sum variable\n",
    "    prefix_sum = 0\n",
    "    \n",
    "    # Initialize the count of subarrays with sum divisible by k\n",
    "    count = 0\n",
    "\n",
    "    # Iterate through each number in the nums array\n",
    "    for num in nums:\n",
    "        # Update the prefix sum by adding the current number\n",
    "        prefix_sum += num\n",
    "        \n",
    "        # Calculate the remainder of the prefix sum when divided by k\n",
    "        remainder = prefix_sum % k\n",
    "        \n",
    "        # If the remainder is negative, adjust it to be within the range [0, k-1]\n",
    "        if remainder < 0:\n",
    "            remainder += k\n",
    "        \n",
    "        # If this remainder has been seen before in the remainder_count dictionary,\n",
    "        # it means there are subarrays that end at the current index and have a sum divisible by k.\n",
    "        # Increment the count by the number of times this remainder has been seen.\n",
    "        if remainder in remainder_count:\n",
    "            count += remainder_count[remainder]\n",
    "        \n",
    "        # Update the remainder_count dictionary with the current remainder.\n",
    "        # If the remainder is already in the dictionary, increment its count by 1.\n",
    "        # Otherwise, add the remainder to the dictionary with a count of 1.\n",
    "        if remainder in remainder_count:\n",
    "            remainder_count[remainder] += 1\n",
    "        else:\n",
    "            remainder_count[remainder] = 1\n",
    "    \n",
    "    # Return the total count of subarrays with sum divisible by k\n",
    "    return count\n",
    "nums=[4,5,0,-2,-3,1]\n",
    "k=5\n",
    "print(subarraysDivByK(nums, k))"
   ]
  },
  {
   "cell_type": "code",
   "execution_count": null,
   "metadata": {},
   "outputs": [],
   "source": []
  }
 ],
 "metadata": {
  "kernelspec": {
   "display_name": "Python 3",
   "language": "python",
   "name": "python3"
  },
  "language_info": {
   "codemirror_mode": {
    "name": "ipython",
    "version": 3
   },
   "file_extension": ".py",
   "mimetype": "text/x-python",
   "name": "python",
   "nbconvert_exporter": "python",
   "pygments_lexer": "ipython3",
   "version": "3.9.13"
  }
 },
 "nbformat": 4,
 "nbformat_minor": 2
}

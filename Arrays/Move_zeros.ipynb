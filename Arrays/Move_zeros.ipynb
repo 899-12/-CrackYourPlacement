{
 "cells": [
  {
   "cell_type": "code",
   "execution_count": null,
   "id": "93c06c95",
   "metadata": {},
   "outputs": [],
   "source": [
    "class Solution:\n",
    "    def moveZeroes(self, nums: List[int]) -> None:\n",
    "       last_non_zero=0\n",
    "       for i in range(len(nums)):\n",
    "            if nums[i]!=0:\n",
    "                nums[last_non_zero]=nums[i]\n",
    "                last_non_zero+=1\n",
    "       for i in range(last_non_zero,len(nums)):\n",
    "            nums[i]=0\n",
    "    "
   ]
  }
 ],
 "metadata": {
  "kernelspec": {
   "display_name": "Python 3 (ipykernel)",
   "language": "python",
   "name": "python3"
  },
  "language_info": {
   "codemirror_mode": {
    "name": "ipython",
    "version": 3
   },
   "file_extension": ".py",
   "mimetype": "text/x-python",
   "name": "python",
   "nbconvert_exporter": "python",
   "pygments_lexer": "ipython3",
   "version": "3.9.12"
  }
 },
 "nbformat": 4,
 "nbformat_minor": 5
}

{
 "cells": [
  {
   "cell_type": "code",
   "execution_count": 1,
   "metadata": {},
   "outputs": [
    {
     "name": "stdout",
     "output_type": "stream",
     "text": [
      "[0, 1]\n"
     ]
    }
   ],
   "source": [
    "from typing import List\n",
    "\n",
    "class Solution:\n",
    "    def twoSum(self, nums: List[int], target: int) -> List[int]:\n",
    "        num_to_index = {}  # Dictionary to store the number and its index\n",
    "        for i, num in enumerate(nums):\n",
    "            complement = target - num\n",
    "            if complement in num_to_index:\n",
    "                return [num_to_index[complement], i]\n",
    "            num_to_index[num] = i\n",
    "\n",
    "# Example usage\n",
    "solution = Solution()\n",
    "nums = [2, 7, 11, 15]\n",
    "target = 9\n",
    "print(solution.twoSum(nums, target))  # Output should be [0, 1]\n"
   ]
  },
  {
   "cell_type": "code",
   "execution_count": null,
   "metadata": {},
   "outputs": [],
   "source": []
  }
 ],
 "metadata": {
  "kernelspec": {
   "display_name": "Python 3",
   "language": "python",
   "name": "python3"
  },
  "language_info": {
   "codemirror_mode": {
    "name": "ipython",
    "version": 3
   },
   "file_extension": ".py",
   "mimetype": "text/x-python",
   "name": "python",
   "nbconvert_exporter": "python",
   "pygments_lexer": "ipython3",
   "version": "3.9.13"
  }
 },
 "nbformat": 4,
 "nbformat_minor": 2
}

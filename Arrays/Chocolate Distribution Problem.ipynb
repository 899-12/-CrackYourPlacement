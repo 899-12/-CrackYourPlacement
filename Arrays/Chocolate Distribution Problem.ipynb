{
 "cells": [
  {
   "cell_type": "code",
   "execution_count": 2,
   "id": "6c4a9bb5",
   "metadata": {},
   "outputs": [
    {
     "name": "stdout",
     "output_type": "stream",
     "text": [
      "10\n",
      "2\n"
     ]
    }
   ],
   "source": [
    "from typing import List\n",
    "\n",
    "class Solution:\n",
    "    def findMinDiff(self, arr: List[int], n: int, m: int) -> int:\n",
    "        # If there are no chocolates or students\n",
    "        if m == 0 or n == 0:\n",
    "            return 0\n",
    "        \n",
    "        # Sort the given packets\n",
    "        arr.sort()\n",
    "        \n",
    "        # Number of students cannot be more than number of packets\n",
    "        if n < m:\n",
    "            return -1\n",
    "        \n",
    "        # Initialize the minimum difference\n",
    "        min_diff = float('inf')\n",
    "        \n",
    "        # Find the minimum difference\n",
    "        for i in range(n - m + 1):\n",
    "            diff = arr[i + m - 1] - arr[i]\n",
    "            if diff < min_diff:\n",
    "                min_diff = diff\n",
    "                \n",
    "        return min_diff\n",
    "\n",
    "# Example usage\n",
    "solution = Solution()\n",
    "arr1 = [12, 4, 7, 9, 2, 23, 25, 41, 30, 40, 28, 42, 30, 44, 48, 43, 50]\n",
    "n1 = len(arr1)\n",
    "m1 = 7\n",
    "print(solution.findMinDiff(arr1, n1, m1))  \n",
    "\n",
    "arr2 = [7, 3, 2, 4, 9, 12, 56]\n",
    "n2 = len(arr2)\n",
    "m2 = 3\n",
    "print(solution.findMinDiff(arr2, n2, m2))  \n"
   ]
  },
  {
   "cell_type": "code",
   "execution_count": null,
   "id": "d99d0e7a",
   "metadata": {},
   "outputs": [],
   "source": []
  }
 ],
 "metadata": {
  "kernelspec": {
   "display_name": "Python 3 (ipykernel)",
   "language": "python",
   "name": "python3"
  },
  "language_info": {
   "codemirror_mode": {
    "name": "ipython",
    "version": 3
   },
   "file_extension": ".py",
   "mimetype": "text/x-python",
   "name": "python",
   "nbconvert_exporter": "python",
   "pygments_lexer": "ipython3",
   "version": "3.9.12"
  }
 },
 "nbformat": 4,
 "nbformat_minor": 5
}

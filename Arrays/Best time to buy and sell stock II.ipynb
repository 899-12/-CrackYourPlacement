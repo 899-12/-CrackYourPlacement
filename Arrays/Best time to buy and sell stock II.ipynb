{
 "cells": [
  {
   "cell_type": "code",
   "execution_count": 1,
   "metadata": {},
   "outputs": [
    {
     "name": "stdout",
     "output_type": "stream",
     "text": [
      "7\n"
     ]
    }
   ],
   "source": [
    "from typing import List\n",
    "\n",
    "class Solution:\n",
    "    def maxProfit(self, prices: List[int]) -> int:\n",
    "        max_profit = 0\n",
    "        for i in range(1, len(prices)):\n",
    "            if prices[i] > prices[i - 1]:\n",
    "                max_profit += prices[i] - prices[i - 1]\n",
    "        return max_profit\n",
    "\n",
    "# Example usage\n",
    "solution = Solution()\n",
    "prices = [7, 1, 5, 3, 6, 4]\n",
    "print(solution.maxProfit(prices))  # Output should be 7 (buy at 1, sell at 5, buy at 3, sell at 6)\n"
   ]
  },
  {
   "cell_type": "code",
   "execution_count": null,
   "metadata": {},
   "outputs": [],
   "source": []
  }
 ],
 "metadata": {
  "kernelspec": {
   "display_name": "Python 3",
   "language": "python",
   "name": "python3"
  },
  "language_info": {
   "codemirror_mode": {
    "name": "ipython",
    "version": 3
   },
   "file_extension": ".py",
   "mimetype": "text/x-python",
   "name": "python",
   "nbconvert_exporter": "python",
   "pygments_lexer": "ipython3",
   "version": "3.9.13"
  }
 },
 "nbformat": 4,
 "nbformat_minor": 2
}
